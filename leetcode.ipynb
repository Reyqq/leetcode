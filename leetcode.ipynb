{
  "nbformat": 4,
  "nbformat_minor": 0,
  "metadata": {
    "colab": {
      "provenance": [],
      "collapsed_sections": [
        "i3Nsb1-y9uxf"
      ],
      "authorship_tag": "ABX9TyMrwZtBIjZ/zV24CojVBupk",
      "include_colab_link": true
    },
    "kernelspec": {
      "name": "python3",
      "display_name": "Python 3"
    },
    "language_info": {
      "name": "python"
    }
  },
  "cells": [
    {
      "cell_type": "markdown",
      "metadata": {
        "id": "view-in-github",
        "colab_type": "text"
      },
      "source": [
        "<a href=\"https://colab.research.google.com/github/Reyqq/leetcode/blob/main/leetcode.ipynb\" target=\"_parent\"><img src=\"https://colab.research.google.com/assets/colab-badge.svg\" alt=\"Open In Colab\"/></a>"
      ]
    },
    {
      "cell_type": "code",
      "execution_count": null,
      "metadata": {
        "id": "OKBNmRA9fYY8"
      },
      "outputs": [],
      "source": [
        "import numpy as np\n",
        "import pandas as pd\n",
        "from typing import Union, List, Optional\n"
      ]
    },
    {
      "cell_type": "markdown",
      "source": [
        "# 21"
      ],
      "metadata": {
        "id": "H1bkmVJbNNjU"
      }
    },
    {
      "cell_type": "code",
      "source": [
        "class ListNode:\n",
        "    def __init__(self, val=0, next=None):\n",
        "        self.val = val\n",
        "        self.next = next\n",
        "\n",
        "class Solution:\n",
        "    def mergeTwoLists(self, list1: Optional[ListNode], list2: Optional[ListNode]) -> Optional[ListNode]:\n",
        "\n",
        "      dummy = ListNode()\n",
        "      last = dummy\n",
        "\n",
        "      while list1 and list2:\n",
        "        if list1.val < list2.val:\n",
        "          last.next = list1\n",
        "          list1 = list1.next\n",
        "        else:\n",
        "          last.next = list2\n",
        "          list2 =list2.next\n",
        "\n",
        "        last = last.next\n",
        "\n",
        "      last.next = list1 or list2\n",
        "\n",
        "      return dummy.next"
      ],
      "metadata": {
        "id": "Bvnk1HfHONyP"
      },
      "execution_count": null,
      "outputs": []
    },
    {
      "cell_type": "markdown",
      "source": [
        "# 94"
      ],
      "metadata": {
        "id": "i3Nsb1-y9uxf"
      }
    },
    {
      "cell_type": "code",
      "source": [],
      "metadata": {
        "id": "vh0BA1Jp9zOk"
      },
      "execution_count": null,
      "outputs": []
    }
  ]
}